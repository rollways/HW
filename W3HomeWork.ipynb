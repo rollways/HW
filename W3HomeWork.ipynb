{
  "nbformat": 4,
  "nbformat_minor": 0,
  "metadata": {
    "colab": {
      "name": "W3HomeWork.ipynb",
      "provenance": [],
      "authorship_tag": "ABX9TyPJ/Zl4W29cdrewyKvsFjQH",
      "include_colab_link": true
    },
    "kernelspec": {
      "name": "python3",
      "display_name": "Python 3"
    },
    "language_info": {
      "name": "python"
    }
  },
  "cells": [
    {
      "cell_type": "markdown",
      "metadata": {
        "id": "view-in-github",
        "colab_type": "text"
      },
      "source": [
        "<a href=\"https://colab.research.google.com/github/rollways/HW/blob/main/W3HomeWork.ipynb\" target=\"_parent\"><img src=\"https://colab.research.google.com/assets/colab-badge.svg\" alt=\"Open In Colab\"/></a>"
      ]
    },
    {
      "cell_type": "code",
      "metadata": {
        "id": "0HTxfn9o1b2X"
      },
      "source": [
        "import pandas as pd\n",
        "import numpy as np\n",
        "import seaborn as sns\n",
        "import matplotlib.pyplot as plt"
      ],
      "execution_count": 360,
      "outputs": []
    },
    {
      "cell_type": "code",
      "source": [
        "# Colab 進行matplotlib繪圖時顯示繁體中文\n",
        "# 下載台北思源黑體並命名taipei_sans_tc_beta.ttf，移至指定路徑\n",
        "!wget -O TaipeiSansTCBeta-Regular.ttf https://drive.google.com/uc?id=1eGAsTN1HBpJAkeVM57_C7ccp7hbgSz3_&export=download\n",
        "\n",
        "import matplotlib as mpl\n",
        "import matplotlib.pyplot as plt \n",
        "from matplotlib.font_manager import fontManager\n",
        "\n",
        "# 改style要在改font之前\n",
        "# plt.style.use('seaborn')  \n",
        "\n",
        "fontManager.addfont('TaipeiSansTCBeta-Regular.ttf')\n",
        "mpl.rc('font', family='Taipei Sans TC Beta')"
      ],
      "metadata": {
        "colab": {
          "base_uri": "https://localhost:8080/"
        },
        "id": "XawDkcD8fCa_",
        "outputId": "07b3bcb5-cb5a-4fd0-9fd7-f44d11716b60"
      },
      "execution_count": 361,
      "outputs": [
        {
          "output_type": "stream",
          "name": "stdout",
          "text": [
            "--2021-12-10 15:41:01--  https://drive.google.com/uc?id=1eGAsTN1HBpJAkeVM57_C7ccp7hbgSz3_\n",
            "Resolving drive.google.com (drive.google.com)... 108.177.111.139, 108.177.111.101, 108.177.111.100, ...\n",
            "Connecting to drive.google.com (drive.google.com)|108.177.111.139|:443... connected.\n",
            "HTTP request sent, awaiting response... 302 Moved Temporarily\n",
            "Location: https://doc-0k-9o-docs.googleusercontent.com/docs/securesc/ha0ro937gcuc7l7deffksulhg5h7mbp1/8me3lu9gvnb4a4q20vkkeg7spukp18d3/1639150800000/02847987870453524430/*/1eGAsTN1HBpJAkeVM57_C7ccp7hbgSz3_ [following]\n",
            "Warning: wildcards not supported in HTTP.\n",
            "--2021-12-10 15:41:02--  https://doc-0k-9o-docs.googleusercontent.com/docs/securesc/ha0ro937gcuc7l7deffksulhg5h7mbp1/8me3lu9gvnb4a4q20vkkeg7spukp18d3/1639150800000/02847987870453524430/*/1eGAsTN1HBpJAkeVM57_C7ccp7hbgSz3_\n",
            "Resolving doc-0k-9o-docs.googleusercontent.com (doc-0k-9o-docs.googleusercontent.com)... 74.125.202.132, 2607:f8b0:4001:c06::84\n",
            "Connecting to doc-0k-9o-docs.googleusercontent.com (doc-0k-9o-docs.googleusercontent.com)|74.125.202.132|:443... connected.\n",
            "HTTP request sent, awaiting response... 200 OK\n",
            "Length: 20659344 (20M) [application/x-font-ttf]\n",
            "Saving to: ‘TaipeiSansTCBeta-Regular.ttf’\n",
            "\n",
            "TaipeiSansTCBeta-Re 100%[===================>]  19.70M  --.-KB/s    in 0.1s    \n",
            "\n",
            "2021-12-10 15:41:03 (153 MB/s) - ‘TaipeiSansTCBeta-Regular.ttf’ saved [20659344/20659344]\n",
            "\n"
          ]
        }
      ]
    },
    {
      "cell_type": "code",
      "source": [
        "from google.colab import drive\n",
        "drive.mount('/content/drive')"
      ],
      "metadata": {
        "colab": {
          "base_uri": "https://localhost:8080/"
        },
        "id": "3t_F8RVhUkYa",
        "outputId": "bc8eaa13-ff3b-409f-942e-34592071a008"
      },
      "execution_count": 362,
      "outputs": [
        {
          "output_type": "stream",
          "name": "stdout",
          "text": [
            "Drive already mounted at /content/drive; to attempt to forcibly remount, call drive.mount(\"/content/drive\", force_remount=True).\n"
          ]
        }
      ]
    },
    {
      "cell_type": "code",
      "source": [
        "data = pd.read_csv('/content/drive/MyDrive/T大使/data3_project.csv')"
      ],
      "metadata": {
        "id": "R5C-MF_9Ur33"
      },
      "execution_count": 363,
      "outputs": []
    },
    {
      "cell_type": "code",
      "source": [
        "data.head(5)"
      ],
      "metadata": {
        "colab": {
          "base_uri": "https://localhost:8080/",
          "height": 206
        },
        "id": "s6rlYZcuWPfb",
        "outputId": "3c29212b-a33c-41f1-fca7-212a1d4d3669"
      },
      "execution_count": 364,
      "outputs": [
        {
          "output_type": "execute_result",
          "data": {
            "text/html": [
              "<div>\n",
              "<style scoped>\n",
              "    .dataframe tbody tr th:only-of-type {\n",
              "        vertical-align: middle;\n",
              "    }\n",
              "\n",
              "    .dataframe tbody tr th {\n",
              "        vertical-align: top;\n",
              "    }\n",
              "\n",
              "    .dataframe thead th {\n",
              "        text-align: right;\n",
              "    }\n",
              "</style>\n",
              "<table border=\"1\" class=\"dataframe\">\n",
              "  <thead>\n",
              "    <tr style=\"text-align: right;\">\n",
              "      <th></th>\n",
              "      <th>InvoiceNo</th>\n",
              "      <th>StockCode</th>\n",
              "      <th>Description</th>\n",
              "      <th>Quantity</th>\n",
              "      <th>InvoiceDate</th>\n",
              "      <th>UnitPrice</th>\n",
              "      <th>CustomerID</th>\n",
              "      <th>Country</th>\n",
              "      <th>member_start_date</th>\n",
              "      <th>first_trans_date</th>\n",
              "    </tr>\n",
              "  </thead>\n",
              "  <tbody>\n",
              "    <tr>\n",
              "      <th>0</th>\n",
              "      <td>PS5327001158</td>\n",
              "      <td>JA01</td>\n",
              "      <td>晶淬雪潔顏乳100ml</td>\n",
              "      <td>8.00</td>\n",
              "      <td>2019-01-01</td>\n",
              "      <td>1259.00</td>\n",
              "      <td>9100002488768.00</td>\n",
              "      <td>中區</td>\n",
              "      <td>2019-12-09</td>\n",
              "      <td>2018-06-24</td>\n",
              "    </tr>\n",
              "    <tr>\n",
              "      <th>1</th>\n",
              "      <td>PS5335020955</td>\n",
              "      <td>KG06</td>\n",
              "      <td>多肽亮眼乳霜20g-保濕型</td>\n",
              "      <td>8.00</td>\n",
              "      <td>2019-01-01</td>\n",
              "      <td>839.00</td>\n",
              "      <td>9100002556566.00</td>\n",
              "      <td>中區</td>\n",
              "      <td>2018-10-21</td>\n",
              "      <td>2018-10-21</td>\n",
              "    </tr>\n",
              "    <tr>\n",
              "      <th>2</th>\n",
              "      <td>PS5335020955</td>\n",
              "      <td>BJ102</td>\n",
              "      <td>檸檬精油10ml MUI</td>\n",
              "      <td>8.00</td>\n",
              "      <td>2019-01-01</td>\n",
              "      <td>839.00</td>\n",
              "      <td>9100002556566.00</td>\n",
              "      <td>中區</td>\n",
              "      <td>2018-10-21</td>\n",
              "      <td>2018-10-21</td>\n",
              "    </tr>\n",
              "    <tr>\n",
              "      <th>3</th>\n",
              "      <td>PS5335020955</td>\n",
              "      <td>JZA3G1</td>\n",
              "      <td>柚見快樂精油15ml MUI</td>\n",
              "      <td>-8.00</td>\n",
              "      <td>2019-01-01</td>\n",
              "      <td>-1501.00</td>\n",
              "      <td>9100002556566.00</td>\n",
              "      <td>中區</td>\n",
              "      <td>2018-10-21</td>\n",
              "      <td>2018-10-21</td>\n",
              "    </tr>\n",
              "    <tr>\n",
              "      <th>4</th>\n",
              "      <td>PS5444006919</td>\n",
              "      <td>BJ103</td>\n",
              "      <td>細花冬青香氛油10ml MUI</td>\n",
              "      <td>8.00</td>\n",
              "      <td>2019-01-01</td>\n",
              "      <td>672.00</td>\n",
              "      <td>9100002582077.00</td>\n",
              "      <td>南區</td>\n",
              "      <td>2018-12-04</td>\n",
              "      <td>2018-12-04</td>\n",
              "    </tr>\n",
              "  </tbody>\n",
              "</table>\n",
              "</div>"
            ],
            "text/plain": [
              "      InvoiceNo StockCode  ... member_start_date  first_trans_date\n",
              "0  PS5327001158      JA01  ...        2019-12-09        2018-06-24\n",
              "1  PS5335020955      KG06  ...        2018-10-21        2018-10-21\n",
              "2  PS5335020955     BJ102  ...        2018-10-21        2018-10-21\n",
              "3  PS5335020955    JZA3G1  ...        2018-10-21        2018-10-21\n",
              "4  PS5444006919     BJ103  ...        2018-12-04        2018-12-04\n",
              "\n",
              "[5 rows x 10 columns]"
            ]
          },
          "metadata": {},
          "execution_count": 364
        }
      ]
    },
    {
      "cell_type": "code",
      "source": [
        "pd.set_option('display.float_format',lambda x:'%.2f'% x)"
      ],
      "metadata": {
        "id": "Ou9yI2aTXVsT"
      },
      "execution_count": 365,
      "outputs": []
    },
    {
      "cell_type": "code",
      "source": [
        "data.drop(data[data['CustomerID'].isnull()].index,inplace=True)"
      ],
      "metadata": {
        "id": "OIZy_a8LXpH3"
      },
      "execution_count": 366,
      "outputs": []
    },
    {
      "cell_type": "code",
      "source": [
        "data['Revenue'] = data['Quantity'] * abs(data['UnitPrice'])"
      ],
      "metadata": {
        "id": "zDe_cSisYPVN"
      },
      "execution_count": 367,
      "outputs": []
    },
    {
      "cell_type": "code",
      "source": [
        "data.Revenue.describe()"
      ],
      "metadata": {
        "colab": {
          "base_uri": "https://localhost:8080/"
        },
        "id": "5wJTEHtPXIUD",
        "outputId": "c913a7a4-7e8b-4341-cad6-4832b8f2c298"
      },
      "execution_count": 368,
      "outputs": [
        {
          "output_type": "execute_result",
          "data": {
            "text/plain": [
              "count     1403724.00\n",
              "mean        82668.84\n",
              "std        922440.49\n",
              "min     -41471304.00\n",
              "25%          4672.00\n",
              "50%          8752.00\n",
              "75%         25904.00\n",
              "max     702441768.00\n",
              "Name: Revenue, dtype: float64"
            ]
          },
          "metadata": {},
          "execution_count": 368
        }
      ]
    },
    {
      "cell_type": "markdown",
      "source": [
        "### 1.請畫出每個區域的收入分佈圖(條狀圖)"
      ],
      "metadata": {
        "id": "ZsAE6D5Yb_gv"
      }
    },
    {
      "cell_type": "code",
      "source": [
        "tx_sales_country = data.groupby(['Country'])['Revenue'].sum().reset_index()\n",
        "tx_sales_country"
      ],
      "metadata": {
        "colab": {
          "base_uri": "https://localhost:8080/",
          "height": 331
        },
        "id": "yZCCqaGccHRS",
        "outputId": "e0ab9eca-fab4-445f-e625-8e7a6684c54f"
      },
      "execution_count": 369,
      "outputs": [
        {
          "output_type": "execute_result",
          "data": {
            "text/html": [
              "<div>\n",
              "<style scoped>\n",
              "    .dataframe tbody tr th:only-of-type {\n",
              "        vertical-align: middle;\n",
              "    }\n",
              "\n",
              "    .dataframe tbody tr th {\n",
              "        vertical-align: top;\n",
              "    }\n",
              "\n",
              "    .dataframe thead th {\n",
              "        text-align: right;\n",
              "    }\n",
              "</style>\n",
              "<table border=\"1\" class=\"dataframe\">\n",
              "  <thead>\n",
              "    <tr style=\"text-align: right;\">\n",
              "      <th></th>\n",
              "      <th>Country</th>\n",
              "      <th>Revenue</th>\n",
              "    </tr>\n",
              "  </thead>\n",
              "  <tbody>\n",
              "    <tr>\n",
              "      <th>0</th>\n",
              "      <td>中區</td>\n",
              "      <td>26938859448.00</td>\n",
              "    </tr>\n",
              "    <tr>\n",
              "      <th>1</th>\n",
              "      <td>佐登微爾</td>\n",
              "      <td>1159339584.00</td>\n",
              "    </tr>\n",
              "    <tr>\n",
              "      <th>2</th>\n",
              "      <td>南區</td>\n",
              "      <td>11729044592.00</td>\n",
              "    </tr>\n",
              "    <tr>\n",
              "      <th>3</th>\n",
              "      <td>台北A區</td>\n",
              "      <td>19440607160.00</td>\n",
              "    </tr>\n",
              "    <tr>\n",
              "      <th>4</th>\n",
              "      <td>台北B區</td>\n",
              "      <td>14527691488.00</td>\n",
              "    </tr>\n",
              "    <tr>\n",
              "      <th>5</th>\n",
              "      <td>彰雲區</td>\n",
              "      <td>12313428224.00</td>\n",
              "    </tr>\n",
              "    <tr>\n",
              "      <th>6</th>\n",
              "      <td>竹區</td>\n",
              "      <td>10939031712.00</td>\n",
              "    </tr>\n",
              "    <tr>\n",
              "      <th>7</th>\n",
              "      <td>總管理處</td>\n",
              "      <td>2575628528.00</td>\n",
              "    </tr>\n",
              "    <tr>\n",
              "      <th>8</th>\n",
              "      <td>高屏全區</td>\n",
              "      <td>16420603160.00</td>\n",
              "    </tr>\n",
              "  </tbody>\n",
              "</table>\n",
              "</div>"
            ],
            "text/plain": [
              "  Country        Revenue\n",
              "0      中區 26938859448.00\n",
              "1    佐登微爾  1159339584.00\n",
              "2      南區 11729044592.00\n",
              "3    台北A區 19440607160.00\n",
              "4    台北B區 14527691488.00\n",
              "5     彰雲區 12313428224.00\n",
              "6      竹區 10939031712.00\n",
              "7    總管理處  2575628528.00\n",
              "8    高屏全區 16420603160.00"
            ]
          },
          "metadata": {},
          "execution_count": 369
        }
      ]
    },
    {
      "cell_type": "code",
      "source": [
        "figure,axes = plt.subplots(figsize=(18,6))\n",
        "sns.barplot(x='Country',y='Revenue',data=tx_sales_country,ax=axes)\n",
        "plt.show()"
      ],
      "metadata": {
        "colab": {
          "base_uri": "https://localhost:8080/",
          "height": 399
        },
        "id": "KuiMQzT-dO95",
        "outputId": "9ffe9853-5ada-4bde-e602-e95b525a9e47"
      },
      "execution_count": 370,
      "outputs": [
        {
          "output_type": "display_data",
          "data": {
            "image/png": "[encoded data removed]",
            "text/plain": [
              "<Figure size 1296x432 with 1 Axes>"
            ]
          },
          "metadata": {
            "needs_background": "light"
          }
        }
      ]
    },
    {
      "cell_type": "markdown",
      "source": [
        "### 2. 這些銷售資料裡，請找出銷售最好的產品（或課程），並用圓餅圖的方式與折線圖的方式呈現在每個地區的收入分佈狀況"
      ],
      "metadata": {
        "id": "ebf-d-rsfTzW"
      }
    },
    {
      "cell_type": "code",
      "source": [
        "sale_max = data.groupby(['Description'])['Revenue'].sum().reset_index()\n",
        "sale_max = sale_max.sort_values(by=['Revenue'],ascending=False)\n",
        "sale_max"
      ],
      "metadata": {
        "colab": {
          "base_uri": "https://localhost:8080/",
          "height": 423
        },
        "id": "KianocnKfeEe",
        "outputId": "980cb7f7-dfe8-4421-b4a0-3755566d235f"
      },
      "execution_count": 371,
      "outputs": [
        {
          "output_type": "execute_result",
          "data": {
            "text/html": [
              "<div>\n",
              "<style scoped>\n",
              "    .dataframe tbody tr th:only-of-type {\n",
              "        vertical-align: middle;\n",
              "    }\n",
              "\n",
              "    .dataframe tbody tr th {\n",
              "        vertical-align: top;\n",
              "    }\n",
              "\n",
              "    .dataframe thead th {\n",
              "        text-align: right;\n",
              "    }\n",
              "</style>\n",
              "<table border=\"1\" class=\"dataframe\">\n",
              "  <thead>\n",
              "    <tr style=\"text-align: right;\">\n",
              "      <th></th>\n",
              "      <th>Description</th>\n",
              "      <th>Revenue</th>\n",
              "    </tr>\n",
              "  </thead>\n",
              "  <tbody>\n",
              "    <tr>\n",
              "      <th>146</th>\n",
              "      <td>全身健康優化SPA課程單堂</td>\n",
              "      <td>12202477640.00</td>\n",
              "    </tr>\n",
              "    <tr>\n",
              "      <th>143</th>\n",
              "      <td>全背順氣活力SPA課程單堂</td>\n",
              "      <td>10968565720.00</td>\n",
              "    </tr>\n",
              "    <tr>\n",
              "      <th>191</th>\n",
              "      <td>太極磁氧靚顏課程單堂</td>\n",
              "      <td>4808559688.00</td>\n",
              "    </tr>\n",
              "    <tr>\n",
              "      <th>7</th>\n",
              "      <td>(新)溫熱刮痧課程單堂</td>\n",
              "      <td>4564733824.00</td>\n",
              "    </tr>\n",
              "    <tr>\n",
              "      <th>34</th>\n",
              "      <td>3C明眸舒壓課程單堂</td>\n",
              "      <td>4519755936.00</td>\n",
              "    </tr>\n",
              "    <tr>\n",
              "      <th>...</th>\n",
              "      <td>...</td>\n",
              "      <td>...</td>\n",
              "    </tr>\n",
              "    <tr>\n",
              "      <th>8</th>\n",
              "      <td>(異業)足部玫瑰舒壓按摩單堂</td>\n",
              "      <td>472.00</td>\n",
              "    </tr>\n",
              "    <tr>\n",
              "      <th>510</th>\n",
              "      <td>熊本熊ALFI玻璃壺</td>\n",
              "      <td>472.00</td>\n",
              "    </tr>\n",
              "    <tr>\n",
              "      <th>652</th>\n",
              "      <td>義式手感瓷杯</td>\n",
              "      <td>472.00</td>\n",
              "    </tr>\n",
              "    <tr>\n",
              "      <th>446</th>\n",
              "      <td>檸檬果汁杯(寬口)</td>\n",
              "      <td>472.00</td>\n",
              "    </tr>\n",
              "    <tr>\n",
              "      <th>436</th>\n",
              "      <td>極線音波拉提900條(特惠)</td>\n",
              "      <td>472.00</td>\n",
              "    </tr>\n",
              "  </tbody>\n",
              "</table>\n",
              "<p>855 rows × 2 columns</p>\n",
              "</div>"
            ],
            "text/plain": [
              "        Description        Revenue\n",
              "146   全身健康優化SPA課程單堂 12202477640.00\n",
              "143   全背順氣活力SPA課程單堂 10968565720.00\n",
              "191      太極磁氧靚顏課程單堂  4808559688.00\n",
              "7       (新)溫熱刮痧課程單堂  4564733824.00\n",
              "34       3C明眸舒壓課程單堂  4519755936.00\n",
              "..              ...            ...\n",
              "8    (異業)足部玫瑰舒壓按摩單堂         472.00\n",
              "510      熊本熊ALFI玻璃壺         472.00\n",
              "652          義式手感瓷杯         472.00\n",
              "446       檸檬果汁杯(寬口)         472.00\n",
              "436  極線音波拉提900條(特惠)         472.00\n",
              "\n",
              "[855 rows x 2 columns]"
            ]
          },
          "metadata": {},
          "execution_count": 371
        }
      ]
    },
    {
      "cell_type": "code",
      "source": [
        "bestseller = data[data['Description'] == '全身健康優化SPA課程單堂']\n",
        "bestseller"
      ],
      "metadata": {
        "colab": {
          "base_uri": "https://localhost:8080/",
          "height": 423
        },
        "id": "9Ue5y3-mgYUu",
        "outputId": "d8517b8f-97e6-419b-a83d-5595517c4949"
      },
      "execution_count": 372,
      "outputs": [
        {
          "output_type": "execute_result",
          "data": {
            "text/html": [
              "<div>\n",
              "<style scoped>\n",
              "    .dataframe tbody tr th:only-of-type {\n",
              "        vertical-align: middle;\n",
              "    }\n",
              "\n",
              "    .dataframe tbody tr th {\n",
              "        vertical-align: top;\n",
              "    }\n",
              "\n",
              "    .dataframe thead th {\n",
              "        text-align: right;\n",
              "    }\n",
              "</style>\n",
              "<table border=\"1\" class=\"dataframe\">\n",
              "  <thead>\n",
              "    <tr style=\"text-align: right;\">\n",
              "      <th></th>\n",
              "      <th>InvoiceNo</th>\n",
              "      <th>StockCode</th>\n",
              "      <th>Description</th>\n",
              "      <th>Quantity</th>\n",
              "      <th>InvoiceDate</th>\n",
              "      <th>UnitPrice</th>\n",
              "      <th>CustomerID</th>\n",
              "      <th>Country</th>\n",
              "      <th>member_start_date</th>\n",
              "      <th>first_trans_date</th>\n",
              "      <th>Revenue</th>\n",
              "    </tr>\n",
              "  </thead>\n",
              "  <tbody>\n",
              "    <tr>\n",
              "      <th>80435</th>\n",
              "      <td>PS5329001874</td>\n",
              "      <td>HB95A01</td>\n",
              "      <td>全身健康優化SPA課程單堂</td>\n",
              "      <td>8.00</td>\n",
              "      <td>2019-02-28</td>\n",
              "      <td>985.00</td>\n",
              "      <td>9100001700007.00</td>\n",
              "      <td>中區</td>\n",
              "      <td>2014-03-04</td>\n",
              "      <td>2014-03-04</td>\n",
              "      <td>7880.00</td>\n",
              "    </tr>\n",
              "    <tr>\n",
              "      <th>80438</th>\n",
              "      <td>PS5329001875</td>\n",
              "      <td>HB95A01</td>\n",
              "      <td>全身健康優化SPA課程單堂</td>\n",
              "      <td>8.00</td>\n",
              "      <td>2019-02-28</td>\n",
              "      <td>985.00</td>\n",
              "      <td>9100000366754.00</td>\n",
              "      <td>中區</td>\n",
              "      <td>2002-11-11</td>\n",
              "      <td>2012-08-09</td>\n",
              "      <td>7880.00</td>\n",
              "    </tr>\n",
              "    <tr>\n",
              "      <th>80487</th>\n",
              "      <td>PS5330018753</td>\n",
              "      <td>HB95A01</td>\n",
              "      <td>全身健康優化SPA課程單堂</td>\n",
              "      <td>8.00</td>\n",
              "      <td>2019-02-28</td>\n",
              "      <td>985.00</td>\n",
              "      <td>9100000066425.00</td>\n",
              "      <td>中區</td>\n",
              "      <td>2001-08-01</td>\n",
              "      <td>2012-08-07</td>\n",
              "      <td>7880.00</td>\n",
              "    </tr>\n",
              "    <tr>\n",
              "      <th>82483</th>\n",
              "      <td>PS5553016468</td>\n",
              "      <td>HB95A01</td>\n",
              "      <td>全身健康優化SPA課程單堂</td>\n",
              "      <td>8.00</td>\n",
              "      <td>2019-03-01</td>\n",
              "      <td>985.00</td>\n",
              "      <td>9100001439358.00</td>\n",
              "      <td>高屏全區</td>\n",
              "      <td>2012-10-31</td>\n",
              "      <td>2012-10-31</td>\n",
              "      <td>7880.00</td>\n",
              "    </tr>\n",
              "    <tr>\n",
              "      <th>82485</th>\n",
              "      <td>PS5553016469</td>\n",
              "      <td>HB95A01</td>\n",
              "      <td>全身健康優化SPA課程單堂</td>\n",
              "      <td>8.00</td>\n",
              "      <td>2019-03-01</td>\n",
              "      <td>985.00</td>\n",
              "      <td>9100000247824.00</td>\n",
              "      <td>高屏全區</td>\n",
              "      <td>2005-01-24</td>\n",
              "      <td>2012-11-06</td>\n",
              "      <td>7880.00</td>\n",
              "    </tr>\n",
              "    <tr>\n",
              "      <th>...</th>\n",
              "      <td>...</td>\n",
              "      <td>...</td>\n",
              "      <td>...</td>\n",
              "      <td>...</td>\n",
              "      <td>...</td>\n",
              "      <td>...</td>\n",
              "      <td>...</td>\n",
              "      <td>...</td>\n",
              "      <td>...</td>\n",
              "      <td>...</td>\n",
              "      <td>...</td>\n",
              "    </tr>\n",
              "    <tr>\n",
              "      <th>1403583</th>\n",
              "      <td>PS5117030690</td>\n",
              "      <td>HB95A01</td>\n",
              "      <td>全身健康優化SPA課程單堂</td>\n",
              "      <td>16.00</td>\n",
              "      <td>2020-12-31</td>\n",
              "      <td>3659.00</td>\n",
              "      <td>9100002566596.00</td>\n",
              "      <td>台北B區</td>\n",
              "      <td>2018-11-08</td>\n",
              "      <td>2018-11-08</td>\n",
              "      <td>58544.00</td>\n",
              "    </tr>\n",
              "    <tr>\n",
              "      <th>1403943</th>\n",
              "      <td>PS5444012976</td>\n",
              "      <td>HB95A01</td>\n",
              "      <td>全身健康優化SPA課程單堂</td>\n",
              "      <td>16.00</td>\n",
              "      <td>2020-12-31</td>\n",
              "      <td>3659.00</td>\n",
              "      <td>9100002020029.00</td>\n",
              "      <td>南區</td>\n",
              "      <td>2015-12-19</td>\n",
              "      <td>2015-12-19</td>\n",
              "      <td>58544.00</td>\n",
              "    </tr>\n",
              "    <tr>\n",
              "      <th>1404016</th>\n",
              "      <td>PS5441025945</td>\n",
              "      <td>HB95A01</td>\n",
              "      <td>全身健康優化SPA課程單堂</td>\n",
              "      <td>16.00</td>\n",
              "      <td>2020-12-31</td>\n",
              "      <td>3659.00</td>\n",
              "      <td>9100001309859.00</td>\n",
              "      <td>南區</td>\n",
              "      <td>2006-07-21</td>\n",
              "      <td>2012-12-19</td>\n",
              "      <td>58544.00</td>\n",
              "    </tr>\n",
              "    <tr>\n",
              "      <th>1404117</th>\n",
              "      <td>PS5360027480</td>\n",
              "      <td>HB95A01</td>\n",
              "      <td>全身健康優化SPA課程單堂</td>\n",
              "      <td>88.00</td>\n",
              "      <td>2020-12-31</td>\n",
              "      <td>18859.00</td>\n",
              "      <td>9100000095883.00</td>\n",
              "      <td>彰雲區</td>\n",
              "      <td>2005-03-10</td>\n",
              "      <td>2012-10-06</td>\n",
              "      <td>1659592.00</td>\n",
              "    </tr>\n",
              "    <tr>\n",
              "      <th>1404121</th>\n",
              "      <td>PS5360027480</td>\n",
              "      <td>HB95A01</td>\n",
              "      <td>全身健康優化SPA課程單堂</td>\n",
              "      <td>88.00</td>\n",
              "      <td>2020-12-31</td>\n",
              "      <td>18859.00</td>\n",
              "      <td>9100000095883.00</td>\n",
              "      <td>彰雲區</td>\n",
              "      <td>2005-03-10</td>\n",
              "      <td>2012-10-06</td>\n",
              "      <td>1659592.00</td>\n",
              "    </tr>\n",
              "  </tbody>\n",
              "</table>\n",
              "<p>33770 rows × 11 columns</p>\n",
              "</div>"
            ],
            "text/plain": [
              "            InvoiceNo StockCode  ... first_trans_date    Revenue\n",
              "80435    PS5329001874   HB95A01  ...       2014-03-04    7880.00\n",
              "80438    PS5329001875   HB95A01  ...       2012-08-09    7880.00\n",
              "80487    PS5330018753   HB95A01  ...       2012-08-07    7880.00\n",
              "82483    PS5553016468   HB95A01  ...       2012-10-31    7880.00\n",
              "82485    PS5553016469   HB95A01  ...       2012-11-06    7880.00\n",
              "...               ...       ...  ...              ...        ...\n",
              "1403583  PS5117030690   HB95A01  ...       2018-11-08   58544.00\n",
              "1403943  PS5444012976   HB95A01  ...       2015-12-19   58544.00\n",
              "1404016  PS5441025945   HB95A01  ...       2012-12-19   58544.00\n",
              "1404117  PS5360027480   HB95A01  ...       2012-10-06 1659592.00\n",
              "1404121  PS5360027480   HB95A01  ...       2012-10-06 1659592.00\n",
              "\n",
              "[33770 rows x 11 columns]"
            ]
          },
          "metadata": {},
          "execution_count": 372
        }
      ]
    },
    {
      "cell_type": "code",
      "source": [
        "tx_sell_country = bestseller.groupby(['Country'])['Revenue'].sum().reset_index()\n",
        "tx_sell_country"
      ],
      "metadata": {
        "colab": {
          "base_uri": "https://localhost:8080/",
          "height": 300
        },
        "id": "Y5atHlEHub59",
        "outputId": "c332e024-acc4-43b1-d01c-bb11676c9514"
      },
      "execution_count": 373,
      "outputs": [
        {
          "output_type": "execute_result",
          "data": {
            "text/html": [
              "<div>\n",
              "<style scoped>\n",
              "    .dataframe tbody tr th:only-of-type {\n",
              "        vertical-align: middle;\n",
              "    }\n",
              "\n",
              "    .dataframe tbody tr th {\n",
              "        vertical-align: top;\n",
              "    }\n",
              "\n",
              "    .dataframe thead th {\n",
              "        text-align: right;\n",
              "    }\n",
              "</style>\n",
              "<table border=\"1\" class=\"dataframe\">\n",
              "  <thead>\n",
              "    <tr style=\"text-align: right;\">\n",
              "      <th></th>\n",
              "      <th>Country</th>\n",
              "      <th>Revenue</th>\n",
              "    </tr>\n",
              "  </thead>\n",
              "  <tbody>\n",
              "    <tr>\n",
              "      <th>0</th>\n",
              "      <td>中區</td>\n",
              "      <td>2294907384.00</td>\n",
              "    </tr>\n",
              "    <tr>\n",
              "      <th>1</th>\n",
              "      <td>南區</td>\n",
              "      <td>1503622328.00</td>\n",
              "    </tr>\n",
              "    <tr>\n",
              "      <th>2</th>\n",
              "      <td>台北A區</td>\n",
              "      <td>2919231200.00</td>\n",
              "    </tr>\n",
              "    <tr>\n",
              "      <th>3</th>\n",
              "      <td>台北B區</td>\n",
              "      <td>1475806696.00</td>\n",
              "    </tr>\n",
              "    <tr>\n",
              "      <th>4</th>\n",
              "      <td>彰雲區</td>\n",
              "      <td>1261692264.00</td>\n",
              "    </tr>\n",
              "    <tr>\n",
              "      <th>5</th>\n",
              "      <td>竹區</td>\n",
              "      <td>1081002656.00</td>\n",
              "    </tr>\n",
              "    <tr>\n",
              "      <th>6</th>\n",
              "      <td>總管理處</td>\n",
              "      <td>944.00</td>\n",
              "    </tr>\n",
              "    <tr>\n",
              "      <th>7</th>\n",
              "      <td>高屏全區</td>\n",
              "      <td>1666214168.00</td>\n",
              "    </tr>\n",
              "  </tbody>\n",
              "</table>\n",
              "</div>"
            ],
            "text/plain": [
              "  Country       Revenue\n",
              "0      中區 2294907384.00\n",
              "1      南區 1503622328.00\n",
              "2    台北A區 2919231200.00\n",
              "3    台北B區 1475806696.00\n",
              "4     彰雲區 1261692264.00\n",
              "5      竹區 1081002656.00\n",
              "6    總管理處        944.00\n",
              "7    高屏全區 1666214168.00"
            ]
          },
          "metadata": {},
          "execution_count": 373
        }
      ]
    },
    {
      "cell_type": "code",
      "source": [
        "fig,axes = plt.subplots(1,2,figsize=(20,6))\n",
        "sns.lineplot(x='Country',y='Revenue',data=tx_sell_country,ax=axes[0])\n",
        "plt.pie(tx_sell_country['Revenue'], labels=tx_sell_country['Country'], autopct='%1.2f%%')\n",
        "plt.show()"
      ],
      "metadata": {
        "colab": {
          "base_uri": "https://localhost:8080/",
          "height": 399
        },
        "id": "iKX4nTKbxTFF",
        "outputId": "4d414eb4-45d0-4353-9cd2-201a0c485565"
      },
      "execution_count": 374,
      "outputs": [
        {
          "output_type": "display_data",
          "data": {
            "image/png": "[encoded data removed]",
            "text/plain": [
              "<Figure size 1440x432 with 2 Axes>"
            ]
          },
          "metadata": {
            "needs_background": "light"
          }
        }
      ]
    },
    {
      "cell_type": "markdown",
      "source": [
        "### 3.請用折線圖展示春、夏、秋、東每個季節購買的人數與收入"
      ],
      "metadata": {
        "id": "41qRr2z8yivG"
      }
    },
    {
      "cell_type": "code",
      "source": [
        "data1 = data"
      ],
      "metadata": {
        "id": "bVQMdVTpyXe1"
      },
      "execution_count": 375,
      "outputs": []
    },
    {
      "cell_type": "code",
      "source": [
        "data1['InvoiceDate'] = pd.to_datetime(data1['InvoiceDate'])\n",
        "data1.info()"
      ],
      "metadata": {
        "colab": {
          "base_uri": "https://localhost:8080/"
        },
        "id": "K8Xph9Wb3PH6",
        "outputId": "a7629089-cd6a-4360-ea72-7bc3a6d81838"
      },
      "execution_count": 376,
      "outputs": [
        {
          "output_type": "stream",
          "name": "stdout",
          "text": [
            "<class 'pandas.core.frame.DataFrame'>\n",
            "Int64Index: 1403724 entries, 0 to 1404434\n",
            "Data columns (total 11 columns):\n",
            " #   Column             Non-Null Count    Dtype         \n",
            "---  ------             --------------    -----         \n",
            " 0   InvoiceNo          1403724 non-null  object        \n",
            " 1   StockCode          1403724 non-null  object        \n",
            " 2   Description        1403724 non-null  object        \n",
            " 3   Quantity           1403724 non-null  float64       \n",
            " 4   InvoiceDate        1403724 non-null  datetime64[ns]\n",
            " 5   UnitPrice          1403724 non-null  float64       \n",
            " 6   CustomerID         1403724 non-null  float64       \n",
            " 7   Country            1403724 non-null  object        \n",
            " 8   member_start_date  1366651 non-null  object        \n",
            " 9   first_trans_date   1400412 non-null  object        \n",
            " 10  Revenue            1403724 non-null  float64       \n",
            "dtypes: datetime64[ns](1), float64(4), object(6)\n",
            "memory usage: 128.5+ MB\n"
          ]
        }
      ]
    },
    {
      "cell_type": "code",
      "source": [
        "data1['Month'] = data1['InvoiceDate'].map(lambda date:date.month)\n",
        "data1"
      ],
      "metadata": {
        "colab": {
          "base_uri": "https://localhost:8080/",
          "height": 423
        },
        "id": "dnO_vkVH3ZRD",
        "outputId": "15f7b20f-89ca-4ef7-cd99-f3cd645bab8f"
      },
      "execution_count": 377,
      "outputs": [
        {
          "output_type": "execute_result",
          "data": {
            "text/html": [
              "<div>\n",
              "<style scoped>\n",
              "    .dataframe tbody tr th:only-of-type {\n",
              "        vertical-align: middle;\n",
              "    }\n",
              "\n",
              "    .dataframe tbody tr th {\n",
              "        vertical-align: top;\n",
              "    }\n",
              "\n",
              "    .dataframe thead th {\n",
              "        text-align: right;\n",
              "    }\n",
              "</style>\n",
              "<table border=\"1\" class=\"dataframe\">\n",
              "  <thead>\n",
              "    <tr style=\"text-align: right;\">\n",
              "      <th></th>\n",
              "      <th>InvoiceNo</th>\n",
              "      <th>StockCode</th>\n",
              "      <th>Description</th>\n",
              "      <th>Quantity</th>\n",
              "      <th>InvoiceDate</th>\n",
              "      <th>UnitPrice</th>\n",
              "      <th>CustomerID</th>\n",
              "      <th>Country</th>\n",
              "      <th>member_start_date</th>\n",
              "      <th>first_trans_date</th>\n",
              "      <th>Revenue</th>\n",
              "      <th>Month</th>\n",
              "    </tr>\n",
              "  </thead>\n",
              "  <tbody>\n",
              "    <tr>\n",
              "      <th>0</th>\n",
              "      <td>PS5327001158</td>\n",
              "      <td>JA01</td>\n",
              "      <td>晶淬雪潔顏乳100ml</td>\n",
              "      <td>8.00</td>\n",
              "      <td>2019-01-01</td>\n",
              "      <td>1259.00</td>\n",
              "      <td>9100002488768.00</td>\n",
              "      <td>中區</td>\n",
              "      <td>2019-12-09</td>\n",
              "      <td>2018-06-24</td>\n",
              "      <td>10072.00</td>\n",
              "      <td>1</td>\n",
              "    </tr>\n",
              "    <tr>\n",
              "      <th>1</th>\n",
              "      <td>PS5335020955</td>\n",
              "      <td>KG06</td>\n",
              "      <td>多肽亮眼乳霜20g-保濕型</td>\n",
              "      <td>8.00</td>\n",
              "      <td>2019-01-01</td>\n",
              "      <td>839.00</td>\n",
              "      <td>9100002556566.00</td>\n",
              "      <td>中區</td>\n",
              "      <td>2018-10-21</td>\n",
              "      <td>2018-10-21</td>\n",
              "      <td>6712.00</td>\n",
              "      <td>1</td>\n",
              "    </tr>\n",
              "    <tr>\n",
              "      <th>2</th>\n",
              "      <td>PS5335020955</td>\n",
              "      <td>BJ102</td>\n",
              "      <td>檸檬精油10ml MUI</td>\n",
              "      <td>8.00</td>\n",
              "      <td>2019-01-01</td>\n",
              "      <td>839.00</td>\n",
              "      <td>9100002556566.00</td>\n",
              "      <td>中區</td>\n",
              "      <td>2018-10-21</td>\n",
              "      <td>2018-10-21</td>\n",
              "      <td>6712.00</td>\n",
              "      <td>1</td>\n",
              "    </tr>\n",
              "    <tr>\n",
              "      <th>3</th>\n",
              "      <td>PS5335020955</td>\n",
              "      <td>JZA3G1</td>\n",
              "      <td>柚見快樂精油15ml MUI</td>\n",
              "      <td>-8.00</td>\n",
              "      <td>2019-01-01</td>\n",
              "      <td>-1501.00</td>\n",
              "      <td>9100002556566.00</td>\n",
              "      <td>中區</td>\n",
              "      <td>2018-10-21</td>\n",
              "      <td>2018-10-21</td>\n",
              "      <td>-12008.00</td>\n",
              "      <td>1</td>\n",
              "    </tr>\n",
              "    <tr>\n",
              "      <th>4</th>\n",
              "      <td>PS5444006919</td>\n",
              "      <td>BJ103</td>\n",
              "      <td>細花冬青香氛油10ml MUI</td>\n",
              "      <td>8.00</td>\n",
              "      <td>2019-01-01</td>\n",
              "      <td>672.00</td>\n",
              "      <td>9100002582077.00</td>\n",
              "      <td>南區</td>\n",
              "      <td>2018-12-04</td>\n",
              "      <td>2018-12-04</td>\n",
              "      <td>5376.00</td>\n",
              "      <td>1</td>\n",
              "    </tr>\n",
              "    <tr>\n",
              "      <th>...</th>\n",
              "      <td>...</td>\n",
              "      <td>...</td>\n",
              "      <td>...</td>\n",
              "      <td>...</td>\n",
              "      <td>...</td>\n",
              "      <td>...</td>\n",
              "      <td>...</td>\n",
              "      <td>...</td>\n",
              "      <td>...</td>\n",
              "      <td>...</td>\n",
              "      <td>...</td>\n",
              "      <td>...</td>\n",
              "    </tr>\n",
              "    <tr>\n",
              "      <th>1404430</th>\n",
              "      <td>PS5324024941</td>\n",
              "      <td>KQ02</td>\n",
              "      <td>玫瑰晶萃活膚液130ml</td>\n",
              "      <td>16.00</td>\n",
              "      <td>2020-12-31</td>\n",
              "      <td>2946.00</td>\n",
              "      <td>9100000595826.00</td>\n",
              "      <td>中區</td>\n",
              "      <td>2010-03-15</td>\n",
              "      <td>2012-07-11</td>\n",
              "      <td>47136.00</td>\n",
              "      <td>12</td>\n",
              "    </tr>\n",
              "    <tr>\n",
              "      <th>1404431</th>\n",
              "      <td>PS5219002027</td>\n",
              "      <td>GAXFG1</td>\n",
              "      <td>真正除臭抗菌噴霧(銀離子迷迭香)250ml</td>\n",
              "      <td>8.00</td>\n",
              "      <td>2020-12-31</td>\n",
              "      <td>309.00</td>\n",
              "      <td>9100003028369.00</td>\n",
              "      <td>竹區</td>\n",
              "      <td>2020-12-08</td>\n",
              "      <td>2020-11-26</td>\n",
              "      <td>2472.00</td>\n",
              "      <td>12</td>\n",
              "    </tr>\n",
              "    <tr>\n",
              "      <th>1404432</th>\n",
              "      <td>PS5219002027</td>\n",
              "      <td>MAB2G1</td>\n",
              "      <td>BA-5肌密全效噴霧奇蹟水70ml</td>\n",
              "      <td>8.00</td>\n",
              "      <td>2020-12-31</td>\n",
              "      <td>1094.00</td>\n",
              "      <td>9100003028369.00</td>\n",
              "      <td>竹區</td>\n",
              "      <td>2020-12-08</td>\n",
              "      <td>2020-11-26</td>\n",
              "      <td>8752.00</td>\n",
              "      <td>12</td>\n",
              "    </tr>\n",
              "    <tr>\n",
              "      <th>1404433</th>\n",
              "      <td>PS5219002027</td>\n",
              "      <td>WD096</td>\n",
              "      <td>緊緻保濕裸膚羽翼面膜25ml-零售單包</td>\n",
              "      <td>16.00</td>\n",
              "      <td>2020-12-31</td>\n",
              "      <td>165.00</td>\n",
              "      <td>9100003028369.00</td>\n",
              "      <td>竹區</td>\n",
              "      <td>2020-12-08</td>\n",
              "      <td>2020-11-26</td>\n",
              "      <td>2640.00</td>\n",
              "      <td>12</td>\n",
              "    </tr>\n",
              "    <tr>\n",
              "      <th>1404434</th>\n",
              "      <td>PS5219002028</td>\n",
              "      <td>GAXFG2</td>\n",
              "      <td>真正除臭抗菌噴霧(銀離子迷迭香)350ml</td>\n",
              "      <td>8.00</td>\n",
              "      <td>2020-12-31</td>\n",
              "      <td>441.00</td>\n",
              "      <td>9100003039464.00</td>\n",
              "      <td>竹區</td>\n",
              "      <td>2020-12-23</td>\n",
              "      <td>2020-12-10</td>\n",
              "      <td>3528.00</td>\n",
              "      <td>12</td>\n",
              "    </tr>\n",
              "  </tbody>\n",
              "</table>\n",
              "<p>1403724 rows × 12 columns</p>\n",
              "</div>"
            ],
            "text/plain": [
              "            InvoiceNo StockCode  ...   Revenue  Month\n",
              "0        PS5327001158      JA01  ...  10072.00      1\n",
              "1        PS5335020955      KG06  ...   6712.00      1\n",
              "2        PS5335020955     BJ102  ...   6712.00      1\n",
              "3        PS5335020955    JZA3G1  ... -12008.00      1\n",
              "4        PS5444006919     BJ103  ...   5376.00      1\n",
              "...               ...       ...  ...       ...    ...\n",
              "1404430  PS5324024941      KQ02  ...  47136.00     12\n",
              "1404431  PS5219002027    GAXFG1  ...   2472.00     12\n",
              "1404432  PS5219002027    MAB2G1  ...   8752.00     12\n",
              "1404433  PS5219002027     WD096  ...   2640.00     12\n",
              "1404434  PS5219002028    GAXFG2  ...   3528.00     12\n",
              "\n",
              "[1403724 rows x 12 columns]"
            ]
          },
          "metadata": {},
          "execution_count": 377
        }
      ]
    },
    {
      "cell_type": "code",
      "source": [
        "data1.loc[data1['Month'].isin([3,4,5]) , 'Season'] = '春'\n",
        "data1.loc[data1['Month'].isin([6,7,8]) , 'Season'] = '夏'\n",
        "data1.loc[data1['Month'].isin([9,10,11]) , 'Season'] = '秋'\n",
        "data1.loc[data1['Month'].isin([1,2,12]) , 'Season'] = '冬'\n",
        "data1"
      ],
      "metadata": {
        "colab": {
          "base_uri": "https://localhost:8080/",
          "height": 476
        },
        "id": "w4fIKffl5UmH",
        "outputId": "8b4ec7f1-a0a7-446b-c99f-244dea837590"
      },
      "execution_count": 378,
      "outputs": [
        {
          "output_type": "execute_result",
          "data": {
            "text/html": [
              "<div>\n",
              "<style scoped>\n",
              "    .dataframe tbody tr th:only-of-type {\n",
              "        vertical-align: middle;\n",
              "    }\n",
              "\n",
              "    .dataframe tbody tr th {\n",
              "        vertical-align: top;\n",
              "    }\n",
              "\n",
              "    .dataframe thead th {\n",
              "        text-align: right;\n",
              "    }\n",
              "</style>\n",
              "<table border=\"1\" class=\"dataframe\">\n",
              "  <thead>\n",
              "    <tr style=\"text-align: right;\">\n",
              "      <th></th>\n",
              "      <th>InvoiceNo</th>\n",
              "      <th>StockCode</th>\n",
              "      <th>Description</th>\n",
              "      <th>Quantity</th>\n",
              "      <th>InvoiceDate</th>\n",
              "      <th>UnitPrice</th>\n",
              "      <th>CustomerID</th>\n",
              "      <th>Country</th>\n",
              "      <th>member_start_date</th>\n",
              "      <th>first_trans_date</th>\n",
              "      <th>Revenue</th>\n",
              "      <th>Month</th>\n",
              "      <th>Season</th>\n",
              "    </tr>\n",
              "  </thead>\n",
              "  <tbody>\n",
              "    <tr>\n",
              "      <th>0</th>\n",
              "      <td>PS5327001158</td>\n",
              "      <td>JA01</td>\n",
              "      <td>晶淬雪潔顏乳100ml</td>\n",
              "      <td>8.00</td>\n",
              "      <td>2019-01-01</td>\n",
              "      <td>1259.00</td>\n",
              "      <td>9100002488768.00</td>\n",
              "      <td>中區</td>\n",
              "      <td>2019-12-09</td>\n",
              "      <td>2018-06-24</td>\n",
              "      <td>10072.00</td>\n",
              "      <td>1</td>\n",
              "      <td>冬</td>\n",
              "    </tr>\n",
              "    <tr>\n",
              "      <th>1</th>\n",
              "      <td>PS5335020955</td>\n",
              "      <td>KG06</td>\n",
              "      <td>多肽亮眼乳霜20g-保濕型</td>\n",
              "      <td>8.00</td>\n",
              "      <td>2019-01-01</td>\n",
              "      <td>839.00</td>\n",
              "      <td>9100002556566.00</td>\n",
              "      <td>中區</td>\n",
              "      <td>2018-10-21</td>\n",
              "      <td>2018-10-21</td>\n",
              "      <td>6712.00</td>\n",
              "      <td>1</td>\n",
              "      <td>冬</td>\n",
              "    </tr>\n",
              "    <tr>\n",
              "      <th>2</th>\n",
              "      <td>PS5335020955</td>\n",
              "      <td>BJ102</td>\n",
              "      <td>檸檬精油10ml MUI</td>\n",
              "      <td>8.00</td>\n",
              "      <td>2019-01-01</td>\n",
              "      <td>839.00</td>\n",
              "      <td>9100002556566.00</td>\n",
              "      <td>中區</td>\n",
              "      <td>2018-10-21</td>\n",
              "      <td>2018-10-21</td>\n",
              "      <td>6712.00</td>\n",
              "      <td>1</td>\n",
              "      <td>冬</td>\n",
              "    </tr>\n",
              "    <tr>\n",
              "      <th>3</th>\n",
              "      <td>PS5335020955</td>\n",
              "      <td>JZA3G1</td>\n",
              "      <td>柚見快樂精油15ml MUI</td>\n",
              "      <td>-8.00</td>\n",
              "      <td>2019-01-01</td>\n",
              "      <td>-1501.00</td>\n",
              "      <td>9100002556566.00</td>\n",
              "      <td>中區</td>\n",
              "      <td>2018-10-21</td>\n",
              "      <td>2018-10-21</td>\n",
              "      <td>-12008.00</td>\n",
              "      <td>1</td>\n",
              "      <td>冬</td>\n",
              "    </tr>\n",
              "    <tr>\n",
              "      <th>4</th>\n",
              "      <td>PS5444006919</td>\n",
              "      <td>BJ103</td>\n",
              "      <td>細花冬青香氛油10ml MUI</td>\n",
              "      <td>8.00</td>\n",
              "      <td>2019-01-01</td>\n",
              "      <td>672.00</td>\n",
              "      <td>9100002582077.00</td>\n",
              "      <td>南區</td>\n",
              "      <td>2018-12-04</td>\n",
              "      <td>2018-12-04</td>\n",
              "      <td>5376.00</td>\n",
              "      <td>1</td>\n",
              "      <td>冬</td>\n",
              "    </tr>\n",
              "    <tr>\n",
              "      <th>...</th>\n",
              "      <td>...</td>\n",
              "      <td>...</td>\n",
              "      <td>...</td>\n",
              "      <td>...</td>\n",
              "      <td>...</td>\n",
              "      <td>...</td>\n",
              "      <td>...</td>\n",
              "      <td>...</td>\n",
              "      <td>...</td>\n",
              "      <td>...</td>\n",
              "      <td>...</td>\n",
              "      <td>...</td>\n",
              "      <td>...</td>\n",
              "    </tr>\n",
              "    <tr>\n",
              "      <th>1404430</th>\n",
              "      <td>PS5324024941</td>\n",
              "      <td>KQ02</td>\n",
              "      <td>玫瑰晶萃活膚液130ml</td>\n",
              "      <td>16.00</td>\n",
              "      <td>2020-12-31</td>\n",
              "      <td>2946.00</td>\n",
              "      <td>9100000595826.00</td>\n",
              "      <td>中區</td>\n",
              "      <td>2010-03-15</td>\n",
              "      <td>2012-07-11</td>\n",
              "      <td>47136.00</td>\n",
              "      <td>12</td>\n",
              "      <td>冬</td>\n",
              "    </tr>\n",
              "    <tr>\n",
              "      <th>1404431</th>\n",
              "      <td>PS5219002027</td>\n",
              "      <td>GAXFG1</td>\n",
              "      <td>真正除臭抗菌噴霧(銀離子迷迭香)250ml</td>\n",
              "      <td>8.00</td>\n",
              "      <td>2020-12-31</td>\n",
              "      <td>309.00</td>\n",
              "      <td>9100003028369.00</td>\n",
              "      <td>竹區</td>\n",
              "      <td>2020-12-08</td>\n",
              "      <td>2020-11-26</td>\n",
              "      <td>2472.00</td>\n",
              "      <td>12</td>\n",
              "      <td>冬</td>\n",
              "    </tr>\n",
              "    <tr>\n",
              "      <th>1404432</th>\n",
              "      <td>PS5219002027</td>\n",
              "      <td>MAB2G1</td>\n",
              "      <td>BA-5肌密全效噴霧奇蹟水70ml</td>\n",
              "      <td>8.00</td>\n",
              "      <td>2020-12-31</td>\n",
              "      <td>1094.00</td>\n",
              "      <td>9100003028369.00</td>\n",
              "      <td>竹區</td>\n",
              "      <td>2020-12-08</td>\n",
              "      <td>2020-11-26</td>\n",
              "      <td>8752.00</td>\n",
              "      <td>12</td>\n",
              "      <td>冬</td>\n",
              "    </tr>\n",
              "    <tr>\n",
              "      <th>1404433</th>\n",
              "      <td>PS5219002027</td>\n",
              "      <td>WD096</td>\n",
              "      <td>緊緻保濕裸膚羽翼面膜25ml-零售單包</td>\n",
              "      <td>16.00</td>\n",
              "      <td>2020-12-31</td>\n",
              "      <td>165.00</td>\n",
              "      <td>9100003028369.00</td>\n",
              "      <td>竹區</td>\n",
              "      <td>2020-12-08</td>\n",
              "      <td>2020-11-26</td>\n",
              "      <td>2640.00</td>\n",
              "      <td>12</td>\n",
              "      <td>冬</td>\n",
              "    </tr>\n",
              "    <tr>\n",
              "      <th>1404434</th>\n",
              "      <td>PS5219002028</td>\n",
              "      <td>GAXFG2</td>\n",
              "      <td>真正除臭抗菌噴霧(銀離子迷迭香)350ml</td>\n",
              "      <td>8.00</td>\n",
              "      <td>2020-12-31</td>\n",
              "      <td>441.00</td>\n",
              "      <td>9100003039464.00</td>\n",
              "      <td>竹區</td>\n",
              "      <td>2020-12-23</td>\n",
              "      <td>2020-12-10</td>\n",
              "      <td>3528.00</td>\n",
              "      <td>12</td>\n",
              "      <td>冬</td>\n",
              "    </tr>\n",
              "  </tbody>\n",
              "</table>\n",
              "<p>1403724 rows × 13 columns</p>\n",
              "</div>"
            ],
            "text/plain": [
              "            InvoiceNo StockCode            Description  ...   Revenue Month  Season\n",
              "0        PS5327001158      JA01            晶淬雪潔顏乳100ml  ...  10072.00     1       冬\n",
              "1        PS5335020955      KG06          多肽亮眼乳霜20g-保濕型  ...   6712.00     1       冬\n",
              "2        PS5335020955     BJ102           檸檬精油10ml MUI  ...   6712.00     1       冬\n",
              "3        PS5335020955    JZA3G1         柚見快樂精油15ml MUI  ... -12008.00     1       冬\n",
              "4        PS5444006919     BJ103        細花冬青香氛油10ml MUI  ...   5376.00     1       冬\n",
              "...               ...       ...                    ...  ...       ...   ...     ...\n",
              "1404430  PS5324024941      KQ02           玫瑰晶萃活膚液130ml  ...  47136.00    12       冬\n",
              "1404431  PS5219002027    GAXFG1  真正除臭抗菌噴霧(銀離子迷迭香)250ml  ...   2472.00    12       冬\n",
              "1404432  PS5219002027    MAB2G1      BA-5肌密全效噴霧奇蹟水70ml  ...   8752.00    12       冬\n",
              "1404433  PS5219002027     WD096    緊緻保濕裸膚羽翼面膜25ml-零售單包  ...   2640.00    12       冬\n",
              "1404434  PS5219002028    GAXFG2  真正除臭抗菌噴霧(銀離子迷迭香)350ml  ...   3528.00    12       冬\n",
              "\n",
              "[1403724 rows x 13 columns]"
            ]
          },
          "metadata": {},
          "execution_count": 378
        }
      ]
    },
    {
      "cell_type": "code",
      "source": [
        "season_data = data1.groupby(['Season'])['Revenue'].sum().reset_index()\n",
        "season_data"
      ],
      "metadata": {
        "colab": {
          "base_uri": "https://localhost:8080/",
          "height": 174
        },
        "id": "ga4R3SS0xF6E",
        "outputId": "2041e9f2-8da3-481b-85e7-82bf1bda539e"
      },
      "execution_count": 379,
      "outputs": [
        {
          "output_type": "execute_result",
          "data": {
            "text/html": [
              "<div>\n",
              "<style scoped>\n",
              "    .dataframe tbody tr th:only-of-type {\n",
              "        vertical-align: middle;\n",
              "    }\n",
              "\n",
              "    .dataframe tbody tr th {\n",
              "        vertical-align: top;\n",
              "    }\n",
              "\n",
              "    .dataframe thead th {\n",
              "        text-align: right;\n",
              "    }\n",
              "</style>\n",
              "<table border=\"1\" class=\"dataframe\">\n",
              "  <thead>\n",
              "    <tr style=\"text-align: right;\">\n",
              "      <th></th>\n",
              "      <th>Season</th>\n",
              "      <th>Revenue</th>\n",
              "    </tr>\n",
              "  </thead>\n",
              "  <tbody>\n",
              "    <tr>\n",
              "      <th>0</th>\n",
              "      <td>冬</td>\n",
              "      <td>28828967672.00</td>\n",
              "    </tr>\n",
              "    <tr>\n",
              "      <th>1</th>\n",
              "      <td>夏</td>\n",
              "      <td>28654689096.00</td>\n",
              "    </tr>\n",
              "    <tr>\n",
              "      <th>2</th>\n",
              "      <td>春</td>\n",
              "      <td>28946035592.00</td>\n",
              "    </tr>\n",
              "    <tr>\n",
              "      <th>3</th>\n",
              "      <td>秋</td>\n",
              "      <td>29614541536.00</td>\n",
              "    </tr>\n",
              "  </tbody>\n",
              "</table>\n",
              "</div>"
            ],
            "text/plain": [
              "  Season        Revenue\n",
              "0      冬 28828967672.00\n",
              "1      夏 28654689096.00\n",
              "2      春 28946035592.00\n",
              "3      秋 29614541536.00"
            ]
          },
          "metadata": {},
          "execution_count": 379
        }
      ]
    },
    {
      "cell_type": "code",
      "source": [
        "season_data1 = data1.groupby(['Season'])['InvoiceNo'].nunique().reset_index()\n",
        "season_data1"
      ],
      "metadata": {
        "colab": {
          "base_uri": "https://localhost:8080/",
          "height": 174
        },
        "id": "sTV2vQbnx_cd",
        "outputId": "3f5f7f5f-edc1-4137-a22f-0d46902c7a89"
      },
      "execution_count": 380,
      "outputs": [
        {
          "output_type": "execute_result",
          "data": {
            "text/html": [
              "<div>\n",
              "<style scoped>\n",
              "    .dataframe tbody tr th:only-of-type {\n",
              "        vertical-align: middle;\n",
              "    }\n",
              "\n",
              "    .dataframe tbody tr th {\n",
              "        vertical-align: top;\n",
              "    }\n",
              "\n",
              "    .dataframe thead th {\n",
              "        text-align: right;\n",
              "    }\n",
              "</style>\n",
              "<table border=\"1\" class=\"dataframe\">\n",
              "  <thead>\n",
              "    <tr style=\"text-align: right;\">\n",
              "      <th></th>\n",
              "      <th>Season</th>\n",
              "      <th>InvoiceNo</th>\n",
              "    </tr>\n",
              "  </thead>\n",
              "  <tbody>\n",
              "    <tr>\n",
              "      <th>0</th>\n",
              "      <td>冬</td>\n",
              "      <td>134643</td>\n",
              "    </tr>\n",
              "    <tr>\n",
              "      <th>1</th>\n",
              "      <td>夏</td>\n",
              "      <td>159847</td>\n",
              "    </tr>\n",
              "    <tr>\n",
              "      <th>2</th>\n",
              "      <td>春</td>\n",
              "      <td>167689</td>\n",
              "    </tr>\n",
              "    <tr>\n",
              "      <th>3</th>\n",
              "      <td>秋</td>\n",
              "      <td>153933</td>\n",
              "    </tr>\n",
              "  </tbody>\n",
              "</table>\n",
              "</div>"
            ],
            "text/plain": [
              "  Season  InvoiceNo\n",
              "0      冬     134643\n",
              "1      夏     159847\n",
              "2      春     167689\n",
              "3      秋     153933"
            ]
          },
          "metadata": {},
          "execution_count": 380
        }
      ]
    },
    {
      "cell_type": "code",
      "source": [
        "season_data2 = data1.groupby(['Season']).agg({'Revenue':'sum','InvoiceNo':'nunique'})\n",
        "season_data2"
      ],
      "metadata": {
        "colab": {
          "base_uri": "https://localhost:8080/",
          "height": 206
        },
        "id": "rz9Sp49O0onx",
        "outputId": "b305958f-dff2-41fb-c78e-d4a065b786fd"
      },
      "execution_count": 381,
      "outputs": [
        {
          "output_type": "execute_result",
          "data": {
            "text/html": [
              "<div>\n",
              "<style scoped>\n",
              "    .dataframe tbody tr th:only-of-type {\n",
              "        vertical-align: middle;\n",
              "    }\n",
              "\n",
              "    .dataframe tbody tr th {\n",
              "        vertical-align: top;\n",
              "    }\n",
              "\n",
              "    .dataframe thead th {\n",
              "        text-align: right;\n",
              "    }\n",
              "</style>\n",
              "<table border=\"1\" class=\"dataframe\">\n",
              "  <thead>\n",
              "    <tr style=\"text-align: right;\">\n",
              "      <th></th>\n",
              "      <th>Revenue</th>\n",
              "      <th>InvoiceNo</th>\n",
              "    </tr>\n",
              "    <tr>\n",
              "      <th>Season</th>\n",
              "      <th></th>\n",
              "      <th></th>\n",
              "    </tr>\n",
              "  </thead>\n",
              "  <tbody>\n",
              "    <tr>\n",
              "      <th>冬</th>\n",
              "      <td>28828967672.00</td>\n",
              "      <td>134643</td>\n",
              "    </tr>\n",
              "    <tr>\n",
              "      <th>夏</th>\n",
              "      <td>28654689096.00</td>\n",
              "      <td>159847</td>\n",
              "    </tr>\n",
              "    <tr>\n",
              "      <th>春</th>\n",
              "      <td>28946035592.00</td>\n",
              "      <td>167689</td>\n",
              "    </tr>\n",
              "    <tr>\n",
              "      <th>秋</th>\n",
              "      <td>29614541536.00</td>\n",
              "      <td>153933</td>\n",
              "    </tr>\n",
              "  </tbody>\n",
              "</table>\n",
              "</div>"
            ],
            "text/plain": [
              "              Revenue  InvoiceNo\n",
              "Season                          \n",
              "冬      28828967672.00     134643\n",
              "夏      28654689096.00     159847\n",
              "春      28946035592.00     167689\n",
              "秋      29614541536.00     153933"
            ]
          },
          "metadata": {},
          "execution_count": 381
        }
      ]
    },
    {
      "cell_type": "code",
      "source": [
        "figure,axes = plt.subplots(figsize=(18,6))\n",
        "sns.lineplot(x='Season',y='Revenue',data=season_data2)\n",
        "sns.lineplot(x='Season',y='InvoiceNo',data=season_data2)\n",
        "plt.show()"
      ],
      "metadata": {
        "colab": {
          "base_uri": "https://localhost:8080/",
          "height": 399
        },
        "id": "Teppgb5U5ejw",
        "outputId": "ba74bed1-abe0-46a2-f882-1b2c242404e9"
      },
      "execution_count": 382,
      "outputs": [
        {
          "output_type": "display_data",
          "data": {
            "image/png": "[encoded data removed]",
            "text/plain": [
              "<Figure size 1296x432 with 1 Axes>"
            ]
          },
          "metadata": {
            "needs_background": "light"
          }
        }
      ]
    },
    {
      "cell_type": "code",
      "source": [
        "season_data2['Revenue'] = season_data2['Revenue']/100000\n",
        "season_data2"
      ],
      "metadata": {
        "colab": {
          "base_uri": "https://localhost:8080/",
          "height": 206
        },
        "id": "Ta0TDxk6-ShF",
        "outputId": "885a60c0-02e4-49ed-c300-dbd2305a3f70"
      },
      "execution_count": 383,
      "outputs": [
        {
          "output_type": "execute_result",
          "data": {
            "text/html": [
              "<div>\n",
              "<style scoped>\n",
              "    .dataframe tbody tr th:only-of-type {\n",
              "        vertical-align: middle;\n",
              "    }\n",
              "\n",
              "    .dataframe tbody tr th {\n",
              "        vertical-align: top;\n",
              "    }\n",
              "\n",
              "    .dataframe thead th {\n",
              "        text-align: right;\n",
              "    }\n",
              "</style>\n",
              "<table border=\"1\" class=\"dataframe\">\n",
              "  <thead>\n",
              "    <tr style=\"text-align: right;\">\n",
              "      <th></th>\n",
              "      <th>Revenue</th>\n",
              "      <th>InvoiceNo</th>\n",
              "    </tr>\n",
              "    <tr>\n",
              "      <th>Season</th>\n",
              "      <th></th>\n",
              "      <th></th>\n",
              "    </tr>\n",
              "  </thead>\n",
              "  <tbody>\n",
              "    <tr>\n",
              "      <th>冬</th>\n",
              "      <td>288289.68</td>\n",
              "      <td>134643</td>\n",
              "    </tr>\n",
              "    <tr>\n",
              "      <th>夏</th>\n",
              "      <td>286546.89</td>\n",
              "      <td>159847</td>\n",
              "    </tr>\n",
              "    <tr>\n",
              "      <th>春</th>\n",
              "      <td>289460.36</td>\n",
              "      <td>167689</td>\n",
              "    </tr>\n",
              "    <tr>\n",
              "      <th>秋</th>\n",
              "      <td>296145.42</td>\n",
              "      <td>153933</td>\n",
              "    </tr>\n",
              "  </tbody>\n",
              "</table>\n",
              "</div>"
            ],
            "text/plain": [
              "         Revenue  InvoiceNo\n",
              "Season                     \n",
              "冬      288289.68     134643\n",
              "夏      286546.89     159847\n",
              "春      289460.36     167689\n",
              "秋      296145.42     153933"
            ]
          },
          "metadata": {},
          "execution_count": 383
        }
      ]
    },
    {
      "cell_type": "code",
      "source": [
        "season_data2.plot()"
      ],
      "metadata": {
        "colab": {
          "base_uri": "https://localhost:8080/",
          "height": 296
        },
        "id": "XN3WujcW9OHu",
        "outputId": "f9e26812-5ba8-46bb-871a-519e84e793e9"
      },
      "execution_count": 384,
      "outputs": [
        {
          "output_type": "execute_result",
          "data": {
            "text/plain": [
              "<matplotlib.axes._subplots.AxesSubplot at 0x7f77fa8558d0>"
            ]
          },
          "metadata": {},
          "execution_count": 384
        },
        {
          "output_type": "display_data",
          "data": {
            "image/png": "[encoded data removed]",
            "text/plain": [
              "<Figure size 432x288 with 1 Axes>"
            ]
          },
          "metadata": {
            "needs_background": "light"
          }
        }
      ]
    },
    {
      "cell_type": "code",
      "source": [
        ""
      ],
      "metadata": {
        "id": "MfqgXgiJ-lW8"
      },
      "execution_count": 384,
      "outputs": []
    }
  ]
}